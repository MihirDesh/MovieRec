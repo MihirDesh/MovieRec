{
  "nbformat": 4,
  "nbformat_minor": 0,
  "metadata": {
    "colab": {
      "provenance": [],
      "authorship_tag": "ABX9TyMNMUNGolbo8HVLhCUtaNl0",
      "include_colab_link": true
    },
    "kernelspec": {
      "name": "python3",
      "display_name": "Python 3"
    },
    "language_info": {
      "name": "python"
    }
  },
  "cells": [
    {
      "cell_type": "markdown",
      "metadata": {
        "id": "view-in-github",
        "colab_type": "text"
      },
      "source": [
        "<a href=\"https://colab.research.google.com/github/MihirDesh/MovieRec/blob/main/MovieRecommender.ipynb\" target=\"_parent\"><img src=\"https://colab.research.google.com/assets/colab-badge.svg\" alt=\"Open In Colab\"/></a>"
      ]
    },
    {
      "cell_type": "code",
      "execution_count": 45,
      "metadata": {
        "id": "Pc5Dq8AGbj-c"
      },
      "outputs": [],
      "source": [
        "import pandas as pd\n",
        "import numpy as np\n",
        "from sklearn.model_selection import train_test_split\n",
        "from sklearn.preprocessing import LabelEncoder, MultiLabelBinarizer\n",
        "from keras.models import Model\n",
        "from keras.layers import Input, Embedding, Flatten, Dense, Concatenate\n",
        "from keras.optimizers import Adam\n",
        "from keras.callbacks import EarlyStopping"
      ]
    },
    {
      "cell_type": "code",
      "source": [
        "movies = pd.read_csv('movies.csv')\n",
        "ratings = pd.read_csv('ratings.csv')"
      ],
      "metadata": {
        "id": "exCq2p1hcKQ_"
      },
      "execution_count": 30,
      "outputs": []
    },
    {
      "cell_type": "code",
      "source": [
        "user_encoder = LabelEncoder()\n",
        "movie_encoder = LabelEncoder()"
      ],
      "metadata": {
        "id": "lwsOIiDUliuO"
      },
      "execution_count": 32,
      "outputs": []
    },
    {
      "cell_type": "code",
      "source": [
        "ratings['user_id'] = user_encoder.fit_transform(ratings['userId'])\n",
        "ratings['movie_id'] = movie_encoder.fit_transform(ratings['movieId'])"
      ],
      "metadata": {
        "id": "qRkzthqDli7v"
      },
      "execution_count": 47,
      "outputs": []
    },
    {
      "cell_type": "code",
      "source": [
        "mlb = MultiLabelBinarizer()\n",
        "genres_encoded = mlb.fit_transform(movies['genres'].apply(lambda x: x.split('|')))\n",
        "genres_df = pd.DataFrame(genres_encoded, columns=mlb.classes_)\n",
        "print(genres_df)"
      ],
      "metadata": {
        "colab": {
          "base_uri": "https://localhost:8080/"
        },
        "id": "P0bM3LezWDB4",
        "outputId": "f0ed63ea-fed3-4ba3-c5c6-69c7a4fd5414"
      },
      "execution_count": 76,
      "outputs": [
        {
          "output_type": "stream",
          "name": "stdout",
          "text": [
            "      (no genres listed)  Action  Adventure  Animation  Children  Comedy  \\\n",
            "0                      0       0          1          1         1       1   \n",
            "1                      0       0          1          0         1       0   \n",
            "2                      0       0          0          0         0       1   \n",
            "3                      0       0          0          0         0       1   \n",
            "4                      0       0          0          0         0       1   \n",
            "...                  ...     ...        ...        ...       ...     ...   \n",
            "9737                   0       1          0          1         0       1   \n",
            "9738                   0       0          0          1         0       1   \n",
            "9739                   0       0          0          0         0       0   \n",
            "9740                   0       1          0          1         0       0   \n",
            "9741                   0       0          0          0         0       1   \n",
            "\n",
            "      Crime  Documentary  Drama  Fantasy  Film-Noir  Horror  IMAX  Musical  \\\n",
            "0         0            0      0        1          0       0     0        0   \n",
            "1         0            0      0        1          0       0     0        0   \n",
            "2         0            0      0        0          0       0     0        0   \n",
            "3         0            0      1        0          0       0     0        0   \n",
            "4         0            0      0        0          0       0     0        0   \n",
            "...     ...          ...    ...      ...        ...     ...   ...      ...   \n",
            "9737      0            0      0        1          0       0     0        0   \n",
            "9738      0            0      0        1          0       0     0        0   \n",
            "9739      0            0      1        0          0       0     0        0   \n",
            "9740      0            0      0        0          0       0     0        0   \n",
            "9741      0            0      0        0          0       0     0        0   \n",
            "\n",
            "      Mystery  Romance  Sci-Fi  Thriller  War  Western  \n",
            "0           0        0       0         0    0        0  \n",
            "1           0        0       0         0    0        0  \n",
            "2           0        1       0         0    0        0  \n",
            "3           0        1       0         0    0        0  \n",
            "4           0        0       0         0    0        0  \n",
            "...       ...      ...     ...       ...  ...      ...  \n",
            "9737        0        0       0         0    0        0  \n",
            "9738        0        0       0         0    0        0  \n",
            "9739        0        0       0         0    0        0  \n",
            "9740        0        0       0         0    0        0  \n",
            "9741        0        0       0         0    0        0  \n",
            "\n",
            "[9742 rows x 20 columns]\n"
          ]
        }
      ]
    },
    {
      "cell_type": "code",
      "source": [
        "data = pd.merge(ratings, genres_df, left_on='movie_id', right_index=True)\n",
        "print(data)"
      ],
      "metadata": {
        "colab": {
          "base_uri": "https://localhost:8080/"
        },
        "id": "m7isxlrKtUf8",
        "outputId": "fe434d45-6490-4041-ac4b-f63ee83bd9bb"
      },
      "execution_count": 77,
      "outputs": [
        {
          "output_type": "stream",
          "name": "stdout",
          "text": [
            "        userId  movieId  rating   timestamp  user_id  movie_id  \\\n",
            "0            1        1     4.0   964982703        0         0   \n",
            "516          5        1     4.0   847434962        4         0   \n",
            "874          7        1     4.5  1106635946        6         0   \n",
            "1434        15        1     2.5  1510577970       14         0   \n",
            "1667        17        1     4.5  1305696483       16         0   \n",
            "...        ...      ...     ...         ...      ...       ...   \n",
            "100820     610   160341     2.5  1479545749      609      9307   \n",
            "100821     610   160527     4.5  1479544998      609      9312   \n",
            "100823     610   160836     3.0  1493844794      609      9324   \n",
            "100827     610   163937     3.5  1493848789      609      9371   \n",
            "100828     610   163981     3.5  1493850155      609      9372   \n",
            "\n",
            "        (no genres listed)  Action  Adventure  Animation  ...  Film-Noir  \\\n",
            "0                        0       0          1          1  ...          0   \n",
            "516                      0       0          1          1  ...          0   \n",
            "874                      0       0          1          1  ...          0   \n",
            "1434                     0       0          1          1  ...          0   \n",
            "1667                     0       0          1          1  ...          0   \n",
            "...                    ...     ...        ...        ...  ...        ...   \n",
            "100820                   1       0          0          0  ...          0   \n",
            "100821                   0       0          0          0  ...          0   \n",
            "100823                   0       0          0          0  ...          0   \n",
            "100827                   0       0          0          0  ...          0   \n",
            "100828                   0       0          0          0  ...          0   \n",
            "\n",
            "        Horror  IMAX  Musical  Mystery  Romance  Sci-Fi  Thriller  War  \\\n",
            "0            0     0        0        0        0       0         0    0   \n",
            "516          0     0        0        0        0       0         0    0   \n",
            "874          0     0        0        0        0       0         0    0   \n",
            "1434         0     0        0        0        0       0         0    0   \n",
            "1667         0     0        0        0        0       0         0    0   \n",
            "...        ...   ...      ...      ...      ...     ...       ...  ...   \n",
            "100820       0     0        0        0        0       0         0    0   \n",
            "100821       1     0        0        0        0       0         0    0   \n",
            "100823       0     0        0        0        0       0         0    0   \n",
            "100827       0     0        0        0        0       0         0    0   \n",
            "100828       0     0        0        0        0       0         0    0   \n",
            "\n",
            "        Western  \n",
            "0             0  \n",
            "516           0  \n",
            "874           0  \n",
            "1434          0  \n",
            "1667          0  \n",
            "...         ...  \n",
            "100820        0  \n",
            "100821        0  \n",
            "100823        0  \n",
            "100827        0  \n",
            "100828        0  \n",
            "\n",
            "[100836 rows x 26 columns]\n"
          ]
        }
      ]
    },
    {
      "cell_type": "code",
      "source": [
        "train_data, test_data = train_test_split(data, test_size = 0.2, random_state = 42)"
      ],
      "metadata": {
        "id": "nRmfOaHmli_Y"
      },
      "execution_count": 50,
      "outputs": []
    },
    {
      "cell_type": "code",
      "source": [
        "num_users = len(user_encoder.classes_)\n",
        "num_movies = len(movie_encoder.classes_)\n",
        "num_genres = len(mlb.classes_)\n",
        "embedding_size = 50"
      ],
      "metadata": {
        "id": "r9aITWHUljCP"
      },
      "execution_count": 51,
      "outputs": []
    },
    {
      "cell_type": "code",
      "source": [
        "user_input = Input(shape=(1,))\n",
        "movie_input = Input(shape=(1,))\n",
        "genre_input = Input(shape=(num_genres,))"
      ],
      "metadata": {
        "id": "POY0wG8Lmg8v"
      },
      "execution_count": 52,
      "outputs": []
    },
    {
      "cell_type": "code",
      "source": [
        "user_embedding = Embedding(input_dim = num_users, output_dim = embedding_size)(user_input)\n",
        "movie_embedding = Embedding(input_dim = num_movies, output_dim = embedding_size)(movie_input)"
      ],
      "metadata": {
        "id": "fZDd96jmmhCt"
      },
      "execution_count": 53,
      "outputs": []
    },
    {
      "cell_type": "code",
      "source": [
        "user_vec = Flatten()(user_embedding)\n",
        "movie_vec = Flatten()(movie_embedding)"
      ],
      "metadata": {
        "id": "TdA4EeCsmhFj"
      },
      "execution_count": 54,
      "outputs": []
    },
    {
      "cell_type": "code",
      "source": [
        "concat = Concatenate()([user_vec, movie_vec, genre_input])\n",
        "dense1 = Dense(128, activation = 'relu')(concat)\n",
        "output = Dense(1)(dense1)"
      ],
      "metadata": {
        "id": "F1wJYRTOmhIJ"
      },
      "execution_count": 55,
      "outputs": []
    },
    {
      "cell_type": "code",
      "source": [
        "model = Model(inputs = [user_input, movie_input, genre_input], outputs = output)\n",
        "model.compile(optimizer = Adam(learning_rate = 0.001), loss = 'mean_squared_error')"
      ],
      "metadata": {
        "id": "iGSI62_jpImv"
      },
      "execution_count": 56,
      "outputs": []
    },
    {
      "cell_type": "code",
      "source": [
        "early_stopping = EarlyStopping(patience = 2, verbose = 1)"
      ],
      "metadata": {
        "id": "sIJJr3ZtpIpS"
      },
      "execution_count": 57,
      "outputs": []
    },
    {
      "cell_type": "code",
      "source": [
        "model.fit([train_data['user_id'], train_data['movie_id'], train_data[mlb.classes_]], train_data['rating'], batch_size = 64, epochs = 10, validation_split = 0.1, callbacks = [early_stopping])"
      ],
      "metadata": {
        "colab": {
          "base_uri": "https://localhost:8080/"
        },
        "id": "n1FVZtZSpIr5",
        "outputId": "e2f64f2a-eb09-401b-a82c-dead641d81f8"
      },
      "execution_count": 58,
      "outputs": [
        {
          "output_type": "stream",
          "name": "stdout",
          "text": [
            "Epoch 1/10\n",
            "1135/1135 [==============================] - 6s 4ms/step - loss: 1.1824 - val_loss: 0.7844\n",
            "Epoch 2/10\n",
            "1135/1135 [==============================] - 4s 4ms/step - loss: 0.7285 - val_loss: 0.7652\n",
            "Epoch 3/10\n",
            "1135/1135 [==============================] - 5s 4ms/step - loss: 0.6843 - val_loss: 0.7396\n",
            "Epoch 4/10\n",
            "1135/1135 [==============================] - 4s 4ms/step - loss: 0.6513 - val_loss: 0.7607\n",
            "Epoch 5/10\n",
            "1135/1135 [==============================] - 4s 4ms/step - loss: 0.6207 - val_loss: 0.7461\n",
            "Epoch 5: early stopping\n"
          ]
        },
        {
          "output_type": "execute_result",
          "data": {
            "text/plain": [
              "<keras.callbacks.History at 0x7b2f6fb22020>"
            ]
          },
          "metadata": {},
          "execution_count": 58
        }
      ]
    },
    {
      "cell_type": "code",
      "source": [
        "loss = model.evaluate([test_data['user_id'], test_data['movie_id'], test_data[mlb.classes_]],\n",
        "                      test_data['rating'])\n",
        "print(f'Test Loss: {loss}')"
      ],
      "metadata": {
        "colab": {
          "base_uri": "https://localhost:8080/"
        },
        "id": "z_WknKZ2pIug",
        "outputId": "5fa9cee8-2b5d-4ff2-e351-696c8d1ff378"
      },
      "execution_count": 59,
      "outputs": [
        {
          "output_type": "stream",
          "name": "stdout",
          "text": [
            "631/631 [==============================] - 1s 949us/step - loss: 0.7560\n",
            "Test Loss: 0.7559601068496704\n"
          ]
        }
      ]
    },
    {
      "cell_type": "code",
      "source": [
        "def get_movie_recommendations(user_id, num_recommendations=5):\n",
        "    user_movies = data[data['user_id'] == user_id]['movie_id'].unique()\n",
        "    all_movies = np.arange(num_movies)\n",
        "    unrated_movies = np.setdiff1d(all_movies, user_movies)\n",
        "    user_ids = np.array([user_id] * len(unrated_movies))\n",
        "\n",
        "    genre_input = np.array([test_data[mlb.classes_].iloc[user_id]] * len(unrated_movies))\n",
        "\n",
        "    predicted_ratings = model.predict([user_ids, unrated_movies, genre_input])\n",
        "\n",
        "    user_liked_genres = data[data['user_id'] == user_id]['genres']\n",
        "    recommended_movies = []\n",
        "    for movie_id, rating in zip(unrated_movies, predicted_ratings):\n",
        "        movie_genres = movies[movies['movie_id'] == movie_id]['genres'].values[0]\n",
        "        if any(genre in movie_genres for genre in user_liked_genres):\n",
        "            recommended_movies.append((movie_id, rating))\n",
        "\n",
        "    recommended_movies.sort(key=lambda x: x[1], reverse=True)\n",
        "    recommended_movie_ids = [movie_id for movie_id, _ in recommended_movies[:num_recommendations]]\n",
        "    recommended_movie_titles = movie_encoder.inverse_transform(recommended_movie_ids)\n",
        "\n",
        "    return recommended_movie_titles"
      ],
      "metadata": {
        "id": "FKIlsVghpIw2"
      },
      "execution_count": 72,
      "outputs": []
    },
    {
      "cell_type": "code",
      "source": [
        "user_id = 1\n",
        "recommendations = get_movie_recommendations(user_id)\n",
        "print(f\"Recommended movies for userId {user_id}:\")\n",
        "for movie_id in recommendations:\n",
        "  print(movies.loc[movies['movie_id'] == movie_id, 'title'].values[0])"
      ],
      "metadata": {
        "colab": {
          "base_uri": "https://localhost:8080/",
          "height": 613
        },
        "id": "MOgzjFfxwPvm",
        "outputId": "84d211c6-fe09-45b3-9f3e-49bd7045e337"
      },
      "execution_count": 82,
      "outputs": [
        {
          "output_type": "stream",
          "name": "stdout",
          "text": [
            "303/303 [==============================] - 0s 1ms/step\n"
          ]
        },
        {
          "output_type": "error",
          "ename": "KeyError",
          "evalue": "ignored",
          "traceback": [
            "\u001b[0;31m---------------------------------------------------------------------------\u001b[0m",
            "\u001b[0;31mKeyError\u001b[0m                                  Traceback (most recent call last)",
            "\u001b[0;32m/usr/local/lib/python3.10/dist-packages/pandas/core/indexes/base.py\u001b[0m in \u001b[0;36mget_loc\u001b[0;34m(self, key, method, tolerance)\u001b[0m\n\u001b[1;32m   3801\u001b[0m             \u001b[0;32mtry\u001b[0m\u001b[0;34m:\u001b[0m\u001b[0;34m\u001b[0m\u001b[0;34m\u001b[0m\u001b[0m\n\u001b[0;32m-> 3802\u001b[0;31m                 \u001b[0;32mreturn\u001b[0m \u001b[0mself\u001b[0m\u001b[0;34m.\u001b[0m\u001b[0m_engine\u001b[0m\u001b[0;34m.\u001b[0m\u001b[0mget_loc\u001b[0m\u001b[0;34m(\u001b[0m\u001b[0mcasted_key\u001b[0m\u001b[0;34m)\u001b[0m\u001b[0;34m\u001b[0m\u001b[0;34m\u001b[0m\u001b[0m\n\u001b[0m\u001b[1;32m   3803\u001b[0m             \u001b[0;32mexcept\u001b[0m \u001b[0mKeyError\u001b[0m \u001b[0;32mas\u001b[0m \u001b[0merr\u001b[0m\u001b[0;34m:\u001b[0m\u001b[0;34m\u001b[0m\u001b[0;34m\u001b[0m\u001b[0m\n",
            "\u001b[0;32m/usr/local/lib/python3.10/dist-packages/pandas/_libs/index.pyx\u001b[0m in \u001b[0;36mpandas._libs.index.IndexEngine.get_loc\u001b[0;34m()\u001b[0m\n",
            "\u001b[0;32m/usr/local/lib/python3.10/dist-packages/pandas/_libs/index.pyx\u001b[0m in \u001b[0;36mpandas._libs.index.IndexEngine.get_loc\u001b[0;34m()\u001b[0m\n",
            "\u001b[0;32mpandas/_libs/hashtable_class_helper.pxi\u001b[0m in \u001b[0;36mpandas._libs.hashtable.PyObjectHashTable.get_item\u001b[0;34m()\u001b[0m\n",
            "\u001b[0;32mpandas/_libs/hashtable_class_helper.pxi\u001b[0m in \u001b[0;36mpandas._libs.hashtable.PyObjectHashTable.get_item\u001b[0;34m()\u001b[0m\n",
            "\u001b[0;31mKeyError\u001b[0m: 'genres'",
            "\nThe above exception was the direct cause of the following exception:\n",
            "\u001b[0;31mKeyError\u001b[0m                                  Traceback (most recent call last)",
            "\u001b[0;32m<ipython-input-82-9ed822f9ad86>\u001b[0m in \u001b[0;36m<cell line: 2>\u001b[0;34m()\u001b[0m\n\u001b[1;32m      1\u001b[0m \u001b[0muser_id\u001b[0m \u001b[0;34m=\u001b[0m \u001b[0;36m1\u001b[0m\u001b[0;34m\u001b[0m\u001b[0;34m\u001b[0m\u001b[0m\n\u001b[0;32m----> 2\u001b[0;31m \u001b[0mrecommendations\u001b[0m \u001b[0;34m=\u001b[0m \u001b[0mget_movie_recommendations\u001b[0m\u001b[0;34m(\u001b[0m\u001b[0muser_id\u001b[0m\u001b[0;34m)\u001b[0m\u001b[0;34m\u001b[0m\u001b[0;34m\u001b[0m\u001b[0m\n\u001b[0m\u001b[1;32m      3\u001b[0m \u001b[0mprint\u001b[0m\u001b[0;34m(\u001b[0m\u001b[0;34mf\"Recommended movies for userId {user_id}:\"\u001b[0m\u001b[0;34m)\u001b[0m\u001b[0;34m\u001b[0m\u001b[0;34m\u001b[0m\u001b[0m\n\u001b[1;32m      4\u001b[0m \u001b[0;32mfor\u001b[0m \u001b[0mmovie_id\u001b[0m \u001b[0;32min\u001b[0m \u001b[0mrecommendations\u001b[0m\u001b[0;34m:\u001b[0m\u001b[0;34m\u001b[0m\u001b[0;34m\u001b[0m\u001b[0m\n\u001b[1;32m      5\u001b[0m   \u001b[0mprint\u001b[0m\u001b[0;34m(\u001b[0m\u001b[0mmovies\u001b[0m\u001b[0;34m.\u001b[0m\u001b[0mloc\u001b[0m\u001b[0;34m[\u001b[0m\u001b[0mmovies\u001b[0m\u001b[0;34m[\u001b[0m\u001b[0;34m'movie_id'\u001b[0m\u001b[0;34m]\u001b[0m \u001b[0;34m==\u001b[0m \u001b[0mmovie_id\u001b[0m\u001b[0;34m,\u001b[0m \u001b[0;34m'title'\u001b[0m\u001b[0;34m]\u001b[0m\u001b[0;34m.\u001b[0m\u001b[0mvalues\u001b[0m\u001b[0;34m[\u001b[0m\u001b[0;36m0\u001b[0m\u001b[0;34m]\u001b[0m\u001b[0;34m)\u001b[0m\u001b[0;34m\u001b[0m\u001b[0;34m\u001b[0m\u001b[0m\n",
            "\u001b[0;32m<ipython-input-72-480d995002ea>\u001b[0m in \u001b[0;36mget_movie_recommendations\u001b[0;34m(user_id, num_recommendations)\u001b[0m\n\u001b[1;32m      9\u001b[0m     \u001b[0mpredicted_ratings\u001b[0m \u001b[0;34m=\u001b[0m \u001b[0mmodel\u001b[0m\u001b[0;34m.\u001b[0m\u001b[0mpredict\u001b[0m\u001b[0;34m(\u001b[0m\u001b[0;34m[\u001b[0m\u001b[0muser_ids\u001b[0m\u001b[0;34m,\u001b[0m \u001b[0munrated_movies\u001b[0m\u001b[0;34m,\u001b[0m \u001b[0mgenre_input\u001b[0m\u001b[0;34m]\u001b[0m\u001b[0;34m)\u001b[0m\u001b[0;34m\u001b[0m\u001b[0;34m\u001b[0m\u001b[0m\n\u001b[1;32m     10\u001b[0m \u001b[0;34m\u001b[0m\u001b[0m\n\u001b[0;32m---> 11\u001b[0;31m     \u001b[0muser_liked_genres\u001b[0m \u001b[0;34m=\u001b[0m \u001b[0mdata\u001b[0m\u001b[0;34m[\u001b[0m\u001b[0mdata\u001b[0m\u001b[0;34m[\u001b[0m\u001b[0;34m'user_id'\u001b[0m\u001b[0;34m]\u001b[0m \u001b[0;34m==\u001b[0m \u001b[0muser_id\u001b[0m\u001b[0;34m]\u001b[0m\u001b[0;34m[\u001b[0m\u001b[0;34m'genres'\u001b[0m\u001b[0;34m]\u001b[0m\u001b[0;34m\u001b[0m\u001b[0;34m\u001b[0m\u001b[0m\n\u001b[0m\u001b[1;32m     12\u001b[0m     \u001b[0mrecommended_movies\u001b[0m \u001b[0;34m=\u001b[0m \u001b[0;34m[\u001b[0m\u001b[0;34m]\u001b[0m\u001b[0;34m\u001b[0m\u001b[0;34m\u001b[0m\u001b[0m\n\u001b[1;32m     13\u001b[0m     \u001b[0;32mfor\u001b[0m \u001b[0mmovie_id\u001b[0m\u001b[0;34m,\u001b[0m \u001b[0mrating\u001b[0m \u001b[0;32min\u001b[0m \u001b[0mzip\u001b[0m\u001b[0;34m(\u001b[0m\u001b[0munrated_movies\u001b[0m\u001b[0;34m,\u001b[0m \u001b[0mpredicted_ratings\u001b[0m\u001b[0;34m)\u001b[0m\u001b[0;34m:\u001b[0m\u001b[0;34m\u001b[0m\u001b[0;34m\u001b[0m\u001b[0m\n",
            "\u001b[0;32m/usr/local/lib/python3.10/dist-packages/pandas/core/frame.py\u001b[0m in \u001b[0;36m__getitem__\u001b[0;34m(self, key)\u001b[0m\n\u001b[1;32m   3805\u001b[0m             \u001b[0;32mif\u001b[0m \u001b[0mself\u001b[0m\u001b[0;34m.\u001b[0m\u001b[0mcolumns\u001b[0m\u001b[0;34m.\u001b[0m\u001b[0mnlevels\u001b[0m \u001b[0;34m>\u001b[0m \u001b[0;36m1\u001b[0m\u001b[0;34m:\u001b[0m\u001b[0;34m\u001b[0m\u001b[0;34m\u001b[0m\u001b[0m\n\u001b[1;32m   3806\u001b[0m                 \u001b[0;32mreturn\u001b[0m \u001b[0mself\u001b[0m\u001b[0;34m.\u001b[0m\u001b[0m_getitem_multilevel\u001b[0m\u001b[0;34m(\u001b[0m\u001b[0mkey\u001b[0m\u001b[0;34m)\u001b[0m\u001b[0;34m\u001b[0m\u001b[0;34m\u001b[0m\u001b[0m\n\u001b[0;32m-> 3807\u001b[0;31m             \u001b[0mindexer\u001b[0m \u001b[0;34m=\u001b[0m \u001b[0mself\u001b[0m\u001b[0;34m.\u001b[0m\u001b[0mcolumns\u001b[0m\u001b[0;34m.\u001b[0m\u001b[0mget_loc\u001b[0m\u001b[0;34m(\u001b[0m\u001b[0mkey\u001b[0m\u001b[0;34m)\u001b[0m\u001b[0;34m\u001b[0m\u001b[0;34m\u001b[0m\u001b[0m\n\u001b[0m\u001b[1;32m   3808\u001b[0m             \u001b[0;32mif\u001b[0m \u001b[0mis_integer\u001b[0m\u001b[0;34m(\u001b[0m\u001b[0mindexer\u001b[0m\u001b[0;34m)\u001b[0m\u001b[0;34m:\u001b[0m\u001b[0;34m\u001b[0m\u001b[0;34m\u001b[0m\u001b[0m\n\u001b[1;32m   3809\u001b[0m                 \u001b[0mindexer\u001b[0m \u001b[0;34m=\u001b[0m \u001b[0;34m[\u001b[0m\u001b[0mindexer\u001b[0m\u001b[0;34m]\u001b[0m\u001b[0;34m\u001b[0m\u001b[0;34m\u001b[0m\u001b[0m\n",
            "\u001b[0;32m/usr/local/lib/python3.10/dist-packages/pandas/core/indexes/base.py\u001b[0m in \u001b[0;36mget_loc\u001b[0;34m(self, key, method, tolerance)\u001b[0m\n\u001b[1;32m   3802\u001b[0m                 \u001b[0;32mreturn\u001b[0m \u001b[0mself\u001b[0m\u001b[0;34m.\u001b[0m\u001b[0m_engine\u001b[0m\u001b[0;34m.\u001b[0m\u001b[0mget_loc\u001b[0m\u001b[0;34m(\u001b[0m\u001b[0mcasted_key\u001b[0m\u001b[0;34m)\u001b[0m\u001b[0;34m\u001b[0m\u001b[0;34m\u001b[0m\u001b[0m\n\u001b[1;32m   3803\u001b[0m             \u001b[0;32mexcept\u001b[0m \u001b[0mKeyError\u001b[0m \u001b[0;32mas\u001b[0m \u001b[0merr\u001b[0m\u001b[0;34m:\u001b[0m\u001b[0;34m\u001b[0m\u001b[0;34m\u001b[0m\u001b[0m\n\u001b[0;32m-> 3804\u001b[0;31m                 \u001b[0;32mraise\u001b[0m \u001b[0mKeyError\u001b[0m\u001b[0;34m(\u001b[0m\u001b[0mkey\u001b[0m\u001b[0;34m)\u001b[0m \u001b[0;32mfrom\u001b[0m \u001b[0merr\u001b[0m\u001b[0;34m\u001b[0m\u001b[0;34m\u001b[0m\u001b[0m\n\u001b[0m\u001b[1;32m   3805\u001b[0m             \u001b[0;32mexcept\u001b[0m \u001b[0mTypeError\u001b[0m\u001b[0;34m:\u001b[0m\u001b[0;34m\u001b[0m\u001b[0;34m\u001b[0m\u001b[0m\n\u001b[1;32m   3806\u001b[0m                 \u001b[0;31m# If we have a listlike key, _check_indexing_error will raise\u001b[0m\u001b[0;34m\u001b[0m\u001b[0;34m\u001b[0m\u001b[0m\n",
            "\u001b[0;31mKeyError\u001b[0m: 'genres'"
          ]
        }
      ]
    }
  ]
}